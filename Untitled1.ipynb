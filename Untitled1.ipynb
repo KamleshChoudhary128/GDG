{
 "cells": [
  {
   "cell_type": "code",
   "execution_count": 1,
   "id": "f0796362-f080-4e6b-8060-4771eaf756a9",
   "metadata": {},
   "outputs": [
    {
     "name": "stdout",
     "output_type": "stream",
     "text": [
      "Center of Operations: (2, 3)\n",
      "Extraction Zone (3x3):\n",
      "[1, 1, 1]\n",
      "[0, 1, 1]\n",
      "[1, 1, 0]\n",
      "Total Lal Chandan Trees in Zone: 7\n"
     ]
    }
   ],
   "source": [
    "def extract_forest_zone(forest_grid,zone_size,center_point):\n",
    "    num_rows =len(forest_grid)\n",
    "    num_cols =len(forest_grid[0])\n",
    "    center_row,center_col=center_point\n",
    "    radius= zone_size// 2\n",
    "    \n",
    "    top_row =max(0, center_row- radius)\n",
    "    bottom_row= min(num_rows -1, center_row + radius)\n",
    "    left_col =max(0, center_col -radius)\n",
    "    right_col= min(num_cols -1, center_col + radius)\n",
    "    \n",
    "    zone_grid =[]\n",
    "    for r in range(top_row,bottom_row + 1):\n",
    "        zone_grid.append(forest_grid[r][left_col:right_col + 1])\n",
    "\n",
    "    total_trees = sum(sum(row) for row in zone_grid)\n",
    "    \n",
    "    return zone_grid, total_trees\n",
    "\n",
    "\n",
    "forest_grid = [\n",
    "    [1, 0, 0, 0, 1],\n",
    "    [1, 0, 1, 1, 1],\n",
    "    [1, 1, 0, 1, 1],\n",
    "    [1, 0, 1, 1, 0],\n",
    "    [0, 1, 0, 1, 1]\n",
    "]\n",
    "\n",
    "zone_size = 3\n",
    "center_point = (2, 3)\n",
    "\n",
    "zone, total_trees = extract_forest_zone(forest_grid, zone_size, center_point)\n",
    "\n",
    "print(f\"Center of Operations: {center_point}\")\n",
    "print(f\"Extraction Zone ({zone_size}x{zone_size}):\")\n",
    "for row in zone:\n",
    "    print(row)\n",
    "print(f\"Total Lal Chandan Trees in Zone: {total_trees}\")\n"
   ]
  },
  {
   "cell_type": "code",
   "execution_count": null,
   "id": "733af46c-4644-45d0-9894-5c896914c8d3",
   "metadata": {},
   "outputs": [],
   "source": []
  }
 ],
 "metadata": {
  "kernelspec": {
   "display_name": "Python 3 (ipykernel)",
   "language": "python",
   "name": "python3"
  },
  "language_info": {
   "codemirror_mode": {
    "name": "ipython",
    "version": 3
   },
   "file_extension": ".py",
   "mimetype": "text/x-python",
   "name": "python",
   "nbconvert_exporter": "python",
   "pygments_lexer": "ipython3",
   "version": "3.13.5"
  }
 },
 "nbformat": 4,
 "nbformat_minor": 5
}
